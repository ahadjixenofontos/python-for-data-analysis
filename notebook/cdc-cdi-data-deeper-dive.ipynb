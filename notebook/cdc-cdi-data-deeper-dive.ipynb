{
 "cells": [
  {
   "cell_type": "markdown",
   "metadata": {
    "collapsed": true
   },
   "source": [
    "# Python for data analysis\n",
    "Athena Hadjixenofontos, PhD\n",
    "## A (slightly) deeper dive into descriptive statistics and hypothesis testing"
   ]
  },
  {
   "cell_type": "code",
   "execution_count": 1,
   "metadata": {
    "collapsed": true
   },
   "outputs": [],
   "source": [
    "# Import libraries\n",
    "import numpy as np\n",
    "import pandas as pd\n",
    "import matplotlib.pyplot as plt\n",
    "\n",
    "# Seaborn \n",
    "import seaborn as sns\n",
    "\n",
    "# Scipy modules need to be imported separately \n",
    "import scipy.stats as ss\n",
    "\n",
    "# Import the dataset\n",
    "data = pd.read_csv('../data/U.S._Chronic_Disease_Indicators__CDI_mod.csv', \n",
    "                       sep = ',', \n",
    "                       dtype={'YearStart' : np.int64,\n",
    "                              'YearEnd' : np.int64, \n",
    "                              'LocationAbbr' : str,\n",
    "                              'LocationDesc' : str,\n",
    "                              'DataSource' : str, \n",
    "                              'Topic' : str,\n",
    "                              'Question' : str,\n",
    "                              'DataValueUnit' : str,\n",
    "                              'DataValueType' : str,\n",
    "                              'DataValue' : str,\n",
    "                              'DataValueAlt' : np.float64,\n",
    "                              'DataValueFootnoteSymbol' : str,\n",
    "                              'DataValueFootnote' : str,\n",
    "                              'LowConfidenceLimit' : np.float64,\n",
    "                              'HighConfidenceLimit' : np.float64,\n",
    "                              'StratificationCategory' : str,\n",
    "                              'Stratification' : str,\n",
    "                              'GeoLocation'  : str,\n",
    "                             })"
   ]
  },
  {
   "cell_type": "markdown",
   "metadata": {},
   "source": [
    "## Focusing the question"
   ]
  },
  {
   "cell_type": "markdown",
   "metadata": {},
   "source": [
    "The first thing we need to do is focus our question. In order to do that let's take another look at the Topics on which we have data. "
   ]
  },
  {
   "cell_type": "code",
   "execution_count": null,
   "metadata": {
    "collapsed": true
   },
   "outputs": [],
   "source": [
    "# Choose phenotypes to study\n",
    "data.Topic.value_counts()"
   ]
  },
  {
   "cell_type": "code",
   "execution_count": null,
   "metadata": {
    "collapsed": true
   },
   "outputs": [],
   "source": [
    "# Let's see the same information in a barplot\n",
    "sns.countplot(y = 'Topic', data = data, palette = 'Set3')\n",
    "plt.show()"
   ]
  },
  {
   "cell_type": "markdown",
   "metadata": {},
   "source": [
    "**Review exercise:** Create a new DataFrame, saved to a variable called 'immune' that contains only data on Asthma and Immunization topics. What are the dimensions of this new 2D DataFrame? "
   ]
  },
  {
   "cell_type": "code",
   "execution_count": null,
   "metadata": {
    "collapsed": true
   },
   "outputs": [],
   "source": []
  },
  {
   "cell_type": "markdown",
   "metadata": {
    "collapsed": false
   },
   "source": [
    "**Review exercise:** Print out the unique sets of questions that are present in the immmune dataset under each of the two topics. "
   ]
  },
  {
   "cell_type": "code",
   "execution_count": null,
   "metadata": {
    "collapsed": true
   },
   "outputs": [],
   "source": []
  },
  {
   "cell_type": "markdown",
   "metadata": {},
   "source": [
    "Hm, all the questions that we can ask are still too wide. Let's restrict our analysis to specific measures (DataValueType) for specific populations (Stratification1). \n",
    "\n",
    "**Review exercise:** Write a couple of print statements that will give you the measures and populations that we can choose from. "
   ]
  },
  {
   "cell_type": "code",
   "execution_count": null,
   "metadata": {
    "collapsed": false
   },
   "outputs": [],
   "source": []
  },
  {
   "cell_type": "markdown",
   "metadata": {},
   "source": [
    "Age-adjusted prevalence is one of the measures that the CDC has included in this dataset. \n",
    "\n",
    "**Question:** Why do we care to adjust prevalence for age? How is it different than crude prevalence? "
   ]
  },
  {
   "cell_type": "markdown",
   "metadata": {},
   "source": [
    "**Review exercise:** Okay, so now that you have taken a fresh look at the measures, populations available, create a new DataFrame that contains only observations on Age-adjusted Prevalence for only the race and ethnicity-related populations in our immune dataset. "
   ]
  },
  {
   "cell_type": "code",
   "execution_count": 61,
   "metadata": {
    "collapsed": false
   },
   "outputs": [],
   "source": []
  },
  {
   "cell_type": "markdown",
   "metadata": {},
   "source": [
    "## Descriptive statistics with respect to the question of interest"
   ]
  },
  {
   "cell_type": "markdown",
   "metadata": {},
   "source": [
    "How do the various racial and ethnic groups compare in age-adjusted prevalence of asthma and immunization measures\n",
    "across *all questions* and across *all locations* in the immune_clean dataset?"
   ]
  },
  {
   "cell_type": "code",
   "execution_count": 62,
   "metadata": {
    "collapsed": false
   },
   "outputs": [
    {
     "data": {
      "image/png": "[encoded data removed]",
      "text/plain": [
       "<matplotlib.figure.Figure at 0x11702ff10>"
      ]
     },
     "metadata": {},
     "output_type": "display_data"
    }
   ],
   "source": [
    "sns.barplot(data = immune_clean, x = 'DataValueAlt', y = 'Topic', hue = 'Stratification1', palette = 'Set2')\n",
    "\n",
    "# Because seaborn is built on top of matplotlib, \n",
    "# you can use matplotlib's plt.legends to control the position of the legend\n",
    "plt.legend(bbox_to_anchor = (1.05, 1))\n",
    "plt.show()"
   ]
  },
  {
   "cell_type": "markdown",
   "metadata": {},
   "source": [
    "Take a moment to link out and read through the [customizing matplotlib page](http://matplotlib.org/users/customizing.html) in the documentation. "
   ]
  },
  {
   "cell_type": "markdown",
   "metadata": {},
   "source": [
    "**Exercise:** How do the various racial and ethnic groups compare in age-adjusted prevalence of:\n",
    "* asthma mortality?\n",
    "* current asthma prevalence among adults aged >= 18 years\n",
    "\n",
    "Make barplots of these two variables to get an idea of the differenced between age-adjusted prevalence of these outcomes in these groups. "
   ]
  },
  {
   "cell_type": "code",
   "execution_count": null,
   "metadata": {
    "collapsed": true
   },
   "outputs": [],
   "source": []
  },
  {
   "cell_type": "markdown",
   "metadata": {},
   "source": [
    "**Question:** Is this plot meaningful enough to conclude differences between the groups? Why, or why not? "
   ]
  },
  {
   "cell_type": "markdown",
   "metadata": {},
   "source": [
    "**Exercise**: Make a scatterplot, using any library you want, with the age-adjusted prevalence of Influenza vaccination among noninstitutionalized adults aged 18-64 years with asthma on the one axis and the age-adjusted prevalence of Emergency visits for asthma on the other axis, where each observation is a point. Use different symbols to represent the race/ethicity and different colors to represent the location. "
   ]
  },
  {
   "cell_type": "code",
   "execution_count": null,
   "metadata": {
    "collapsed": true
   },
   "outputs": [],
   "source": []
  },
  {
   "cell_type": "markdown",
   "metadata": {},
   "source": [
    "**Question:** What do scatterplots represent? What types of variables can you use them for? \n",
    "\n",
    "**Question:** Is there a clear relationship between the two variables? Do states that have higher rates of influenza vaccination of adults with asthma also have higher rates of emergency room visits related to asthma? \n",
    "\n",
    "**Question:** Come up with a few reasons why you may not believe that a relationship exists between the two variables, and also come up with a few reasons why a true relationship between these variables may be reasonable. \n",
    "\n",
    "**Question:** How do you know that what you see is representative of the population parameter and not a consequence of \"bad\" sampling? "
   ]
  },
  {
   "cell_type": "markdown",
   "metadata": {},
   "source": [
    "## Correlation"
   ]
  },
  {
   "cell_type": "markdown",
   "metadata": {},
   "source": [
    "Thus far we have talked about quantities of the marginal distribution such as the mean and standard deviation. The correlation between two variables is a measure of how they vary together. It is a property of their joint distribution. "
   ]
  },
  {
   "cell_type": "markdown",
   "metadata": {},
   "source": [
    "**Exercise:** Calculate the Pearson correlation between two variables. Use the pandas.Series.corr() method (although this is not your only option). \n",
    "\n",
    "You will first need to subset two Series objects that are comparable. Calculate the Pearson correlation between asthma mortality rate in White, non-Hispanics and Influenza vaccination among noninstitutionalized adults aged >= 18 years. "
   ]
  },
  {
   "cell_type": "code",
   "execution_count": null,
   "metadata": {
    "collapsed": true
   },
   "outputs": [],
   "source": []
  },
  {
   "cell_type": "markdown",
   "metadata": {},
   "source": [
    "![alt text](correlation.png \"xkcd: Correlation\")"
   ]
  },
  {
   "cell_type": "markdown",
   "metadata": {},
   "source": [
    "## Population parameters and sample estimates"
   ]
  },
  {
   "cell_type": "markdown",
   "metadata": {},
   "source": [
    "In a perfect world, where we could measure every member of a population, our sample estimate would be equal to the population parameter. \n",
    "\n",
    "Alas, the population parameter for our variable of interest is something that we will never know, but it is someting that we can estimate from data, with varying levels of confidence. \n",
    "\n",
    "The larger the sample size, the closer you generally get to the population parameter, therefore when designing a study you should always aim to maximize your sample size. The restrictions will be imposed by practical matters, like budget, time and effort it takes to generate/collect a sample. \n",
    "\n",
    "Sample size calculations come in handy for these purposes. \n",
    "\n",
    "**Question:** What does detecting a true difference between two groups depend on? "
   ]
  },
  {
   "cell_type": "markdown",
   "metadata": {},
   "source": [
    "## Hypothesis testing: is anything real? "
   ]
  },
  {
   "cell_type": "markdown",
   "metadata": {},
   "source": [
    "Welcome to the universe of inferential statistics. \n",
    "\n",
    "We'll start with something simple: a two-sample t-test. We will ask the question:\n",
    "\n",
    "Is the age-adjusted prevalence of asthma related mortality different between Black, non-Hispanic and White, non-Hispanic individuals?\n",
    "\n",
    "**Exercise:** Perform a two-sample t-test to test whether the difference in mean current asthma prevalence is significant. \n",
    "\n",
    "At your disposal: np.mean() and stats.ttest_ind()"
   ]
  },
  {
   "cell_type": "code",
   "execution_count": null,
   "metadata": {
    "collapsed": false
   },
   "outputs": [],
   "source": []
  }
 ],
 "metadata": {
  "kernelspec": {
   "display_name": "Python 2",
   "language": "python",
   "name": "python2"
  },
  "language_info": {
   "codemirror_mode": {
    "name": "ipython",
    "version": 2
   },
   "file_extension": ".py",
   "mimetype": "text/x-python",
   "name": "python",
   "nbconvert_exporter": "python",
   "pygments_lexer": "ipython2",
   "version": "2.7.13"
  }
 },
 "nbformat": 4,
 "nbformat_minor": 2
}
